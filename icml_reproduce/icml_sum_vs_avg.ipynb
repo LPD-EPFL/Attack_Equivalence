{
  "cells": [
    {
      "cell_type": "markdown",
      "metadata": {
        "id": "oHP6quamKpem"
      },
      "source": [
        "# INITIALISATION"
      ]
    },
    {
      "cell_type": "code",
      "execution_count": null,
      "metadata": {
        "id": "K-RRW9zgdKv5"
      },
      "outputs": [],
      "source": [
        "from time import time\n",
        "import os\n",
        "import shutil\n",
        "import random\n",
        "from copy import deepcopy\n",
        "import math\n",
        "\n",
        "import numpy as np\n",
        "import matplotlib.pyplot as plt\n",
        "import torch\n",
        "import torch.nn as nn\n",
        "import torch.optim as optim\n",
        "from torchvision import datasets\n",
        "from torchvision.transforms.functional import to_pil_image, resize, to_tensor\n",
        "\n",
        "from IPython.core.interactiveshell import InteractiveShell\n",
        "\n",
        "InteractiveShell.ast_node_interactivity = \"all\""
      ]
    },
    {
      "cell_type": "code",
      "execution_count": null,
      "metadata": {
        "id": "qcpDqZ1gts-9"
      },
      "outputs": [],
      "source": [
        "DEFAULTS = { \n",
        "            \"w\": 1,   # float >= 0, harmonisation parameter\n",
        "            \"lr_gen\": 0.02,     # float > 0, learning rate of global model\n",
        "            \"lr_node\": 0.02,    # float > 0, learning rate of local models\n",
        "            \"NN\" : \"linear\",     # \"base\" or \"conv\", neural network architecture\n",
        "            \"opt\": optim.Adam,    # any torch optimizer\n",
        "            \"pow_gen\": (2, 1),  # generalisation norm  \n",
        "            }\n",
        "\n",
        "\n",
        "METRICS = ({\"lab\":\"fit\", \"ord\": \"Training Loss\", \"f_name\": \"loss\"}, \n",
        "           {\"lab\":\"gen\", \"ord\": \"Training Loss\", \"f_name\": \"loss\"}, \n",
        "           {\"lab\":\"acc_big\", \"ord\": \"Accuracy\", \"f_name\": \"acc\"},\n",
        "           {\"lab\":\"acc_small\", \"ord\": \"Accuracy\", \"f_name\": \"acc\"}, \n",
        "           {\"lab\":\"l2_dist\", \"ord\": \"l2 norm\", \"f_name\": \"l2dist\"}, \n",
        "           {\"lab\":\"l2_norm\", \"ord\": \"l2 norm\", \"f_name\": \"l2dist\"}, \n",
        "           {\"lab\":\"grad_sp\", \"ord\": \"Scalar Product\", \"f_name\": \"grad\"}, \n",
        "           {\"lab\":\"grad_norm\", \"ord\": \"Scalar Product\", \"f_name\": \"grad\"},\n",
        "           {\"lab\":\"acc_glob\", \"ord\": \"Accuracy\", \"f_name\": \"acc\"},\n",
        "           )\n"
      ]
    },
    {
      "cell_type": "code",
      "execution_count": null,
      "metadata": {
        "id": "XtHuJPre3AdE"
      },
      "outputs": [],
      "source": [
        "os.chdir(\"/content\")\n",
        "os.makedirs(\"distribution\", exist_ok=True)\n",
        "os.chdir(\"/content/distribution\")"
      ]
    },
    {
      "cell_type": "markdown",
      "metadata": {
        "id": "7_Aro-tEK5zL"
      },
      "source": [
        "# DATA"
      ]
    },
    {
      "cell_type": "code",
      "execution_count": null,
      "metadata": {
        "id": "MrwNrcRjghQx"
      },
      "outputs": [],
      "source": [
        "# data hyperparameters\n",
        "DATASET = datasets.FashionMNIST\n",
        "IMG_SIZE = 28\n",
        "NOISE = 0.6"
      ]
    },
    {
      "cell_type": "markdown",
      "metadata": {
        "id": "3plCM_hmKD2D"
      },
      "source": [
        "## functions"
      ]
    },
    {
      "cell_type": "code",
      "execution_count": null,
      "metadata": {
        "id": "cChzUjVOMNc3"
      },
      "outputs": [],
      "source": [
        "# data import and management\n",
        "\n",
        "def load_mnist(img_size=IMG_SIZE, noise=NOISE):\n",
        "    \"\"\" return data and labels for train and test mnist dataset \"\"\"\n",
        "    #---------------- train data -------------------\n",
        "    mnist_train = DATASET('data', train=True, download=True)\n",
        "    data_train = mnist_train.data\n",
        "    labels_train = [mnist_train[i][1] for i in range(len(data_train))]\n",
        "\n",
        "    pics = []\n",
        "    for pic in data_train:\n",
        "        pic = to_pil_image(pic)\n",
        "        if img_size != 28:\n",
        "            pic = resize(pic, img_size) # Resize image if needed\n",
        "        pic = to_tensor(pic)            # Tensor conversion normalizes in [0,1]\n",
        "        pics.append(pic)\n",
        "    data_train = torch.stack(pics)\n",
        "\n",
        "    #------------------  test data -----------------------\n",
        "    mnist_test = DATASET('data', train=False, download=True)\n",
        "    data_test = mnist_test.data\n",
        "    labels_test = [mnist_test[i][1] for i in range(len(data_test))]\n",
        "\n",
        "    pics = []\n",
        "    for pic in data_test:\n",
        "        pic = to_pil_image(pic)\n",
        "        if img_size != 28:\n",
        "            pic = resize(pic, img_size)   # Resize image if needed\n",
        "        pic = to_tensor(pic)             # Tensor conversion normalizes in [0,1]\n",
        "        pics.append(pic)\n",
        "    data_test = torch.stack(pics)\n",
        "\n",
        "    nb_rd = int(len(labels_train) * noise)  # number of random labels\n",
        "    for i in range(nb_rd):\n",
        "        labels_train[i] = random.randint(0, 9)\n",
        "    return (data_train, labels_train), (data_test,labels_test)\n",
        "\n",
        "def query(datafull, nb, bias=0, fav=0):\n",
        "    \"\"\" return -nb random samples of -datafull \"\"\"\n",
        "    data, labels = datafull\n",
        "    idxs = list(range(len(data)))\n",
        "    l = []\n",
        "    h, w = data[0][0].shape\n",
        "    d = torch.empty(nb, 1, h, w)\n",
        "    if bias == 0:\n",
        "        indexes = random.sample(idxs, nb) # drawing nb random indexes\n",
        "    else :\n",
        "        indexes = []\n",
        "        for i in range(nb):\n",
        "            idx = one_query(labels, idxs, bias, fav)\n",
        "            indexes.append(idx)\n",
        "            idxs.remove(idx) # to draw only once each index max\n",
        "    for k, i in enumerate(indexes): # filling our query\n",
        "        d[k] = data[i]\n",
        "        l.append(labels[i])\n",
        "    return d, l\n",
        "\n",
        "def one_query(labels, idxs, redraws, fav):\n",
        "    \"\"\" labels : list of labels\n",
        "        idxs : list of available indexes\n",
        "        draws an index with a favorite label choice \n",
        "        fav : favorite label\n",
        "        redraws : max nb of random redraws while fav not found\n",
        "    \"\"\"\n",
        "    lab = -1 \n",
        "    while lab != fav and redraws >= 0:\n",
        "        idx = idxs[random.randint(0, len(idxs)-1)]\n",
        "        lab = labels[idx]\n",
        "        redraws -= 1\n",
        "    return idx\n",
        "\n",
        "def list_to_longtens(l):\n",
        "    \"\"\" change a list into the appropriate ground truths type \"\"\"\n",
        "    probas_gt = not (type(l[0]) is int or l[0].shape == 0)\n",
        "    if probas_gt:\n",
        "        tens = torch.empty((len(l), 10))\n",
        "    else:\n",
        "        tens = torch.empty(len(l), dtype=torch.long)\n",
        "    for i, lab in enumerate(l): \n",
        "        tens[i] = lab\n",
        "    return tens\n",
        "\n",
        "def swap(l, n, m):\n",
        "    \"\"\" swap n and m values in l list \"\"\"\n",
        "    return [m if (v==n) else n if (v==m) else v for v in l]\n",
        "\n",
        "\n",
        "def distribute_data_rd(datafull, distrib, fav_lab=(0,0), \n",
        "                       dish=False, dish_lab=0, gpu=True): \n",
        "    \"\"\"draw random data on N nodes following distrib\n",
        "        data, labels : raw data and labels\n",
        "        distrib : int list, list of nb of data points for each node\n",
        "        pref_lab : (prefered label, strength of preference (int))\n",
        "        dish : boolean, if nodes are dishonest \n",
        "        dish_lab : 0 to 4, labelisation method\n",
        "\n",
        "        returns : (list of batches of images, list of batches of labels)\n",
        "    \"\"\"\n",
        "    data, labels = datafull\n",
        "    N = len(distrib)\n",
        "    data_dist = []      # list of len N\n",
        "    labels_dist = []    # list of len N\n",
        "    fav, strength = fav_lab\n",
        "\n",
        "    for n, number in enumerate(distrib): #for each node\n",
        "        d, l = query(datafull, number, strength, fav)\n",
        "        if gpu:\n",
        "            data_dist.append(torch.FloatTensor(d).cuda())\n",
        "        else:\n",
        "            data_dist.append(torch.FloatTensor(d))\n",
        "        if dish:                # if dishonest node\n",
        "\n",
        "            # labels modification\n",
        "            if dish_lab == 0: # random\n",
        "                tens = torch.randint(10, (number,), dtype=torch.long)\n",
        "            elif dish_lab == 1: # zeros\n",
        "                tens = torch.zeros(number, dtype=torch.long)\n",
        "            elif dish_lab == 2: # swap 1-7, \"strats\"\n",
        "                l = swap(l, 1, 7)\n",
        "                tens = list_to_longtens(l)\n",
        "            elif dish_lab == 3: # swap 2 random    \n",
        "                n, m = random.randint(0,9), random.randint(0,9)\n",
        "                l = swap(l, n, m)\n",
        "                tens = list_to_longtens(l)\n",
        "            elif dish_lab == 4: # label +1, \"jokers\"\n",
        "                tens = (list_to_longtens(l) + 1) % 10\n",
        "\n",
        "        else:           # if honest node \n",
        "            tens = list_to_longtens(l) # needed for CrossEntropy later\n",
        "        if gpu:\n",
        "            tens = tens.cuda()\n",
        "\n",
        "        labels_dist.append(tens)\n",
        "\n",
        "    return data_dist, labels_dist"
      ]
    },
    {
      "cell_type": "markdown",
      "metadata": {
        "id": "AHCoX9RGMtoI"
      },
      "source": [
        "## get data"
      ]
    },
    {
      "cell_type": "code",
      "execution_count": null,
      "metadata": {
        "id": "H4inHbdwNgz4"
      },
      "outputs": [],
      "source": [
        "# downloading data\n",
        "if 'train' not in globals(): # to avoid loading data every time\n",
        "    train, test = load_mnist()\n",
        "    if torch.cuda.is_available():\n",
        "        test_gpu = torch.tensor(test[0]).cuda(), torch.tensor(test[1]).cuda()"
      ]
    },
    {
      "cell_type": "markdown",
      "metadata": {
        "id": "3_HR2r0oK-Am"
      },
      "source": [
        "# MODELS"
      ]
    },
    {
      "cell_type": "code",
      "execution_count": null,
      "metadata": {
        "id": "7QclvVEyDa4G"
      },
      "outputs": [],
      "source": [
        "# model architecture (2 options)\n",
        "\n",
        "def get_base_classifier(gpu=True):\n",
        "    \"\"\" returns linear baseline classifier \"\"\"\n",
        "    model = nn.Sequential( \n",
        "        nn.Flatten(),\n",
        "        nn.Linear(IMG_SIZE**2, 10),\n",
        "        )\n",
        "    if gpu:\n",
        "        return model.cuda()\n",
        "    return model\n",
        "\n",
        "def get_2l_classifier(gpu=True):\n",
        "    \"\"\" returns linear baseline classifier \"\"\"\n",
        "    model = nn.Sequential( \n",
        "        nn.Flatten(),\n",
        "        nn.Linear(IMG_SIZE**2, IMG_SIZE**2),\n",
        "        torch.nn.ReLU(),\n",
        "        nn.Linear(IMG_SIZE**2, 10),\n",
        "        )\n",
        "    if gpu:\n",
        "        return model.cuda()\n",
        "    return model\n",
        "\n",
        "MODELS = {\"linear\": get_base_classifier, '2layers': get_2l_classifier}"
      ]
    },
    {
      "cell_type": "markdown",
      "metadata": {
        "id": "yZ0v-iNHLBr4"
      },
      "source": [
        "# TRAINING STRUCTURE"
      ]
    },
    {
      "cell_type": "markdown",
      "metadata": {
        "id": "F-q9ec13VV5z"
      },
      "source": [
        "## Losses"
      ]
    },
    {
      "cell_type": "code",
      "execution_count": null,
      "metadata": {
        "id": "-PH-0T9rrdr8"
      },
      "outputs": [],
      "source": [
        "# loss and scoring functions \n",
        "\n",
        "def local_loss(model_loc, x, y, reduction='sum'):  \n",
        "    \"\"\" classification loss \"\"\"\n",
        "    loss = nn.CrossEntropyLoss(reduction=reduction)\n",
        "    predicted = model_loc(x)\n",
        "    local = loss(predicted, y)\n",
        "    return local\n",
        "\n",
        "def models_dist(model_loc, model_glob, pow=(1, 1)):  \n",
        "    \"\"\" l1 distance between global and local parameter\n",
        "        will be mutliplied by w_n \n",
        "        pow : (internal power, external power)\n",
        "    \"\"\"\n",
        "    q, p = pow\n",
        "    dist = sum(((theta - rho)**q).abs().sum() for theta, rho in \n",
        "                  zip(model_loc.parameters(), model_glob.parameters()))**p\n",
        "    return dist\n",
        "\n",
        "def model_norm(model_glob, pow=(2,1)): \n",
        "    \"\"\" l2 squared regularisation of global parameter\n",
        "     will be multiplied by w_0 \n",
        "     pow : (internal power, external power)\n",
        "     \"\"\"\n",
        "    q, p = pow\n",
        "    norm = sum((param**q).abs().sum() for param in model_glob.parameters())**p\n",
        "    return norm\n",
        "\n",
        "def round_loss(tens, dec=0): \n",
        "    \"\"\"from an input scalar tensor returns rounded integer\"\"\"\n",
        "    if type(tens)==int or type(tens)==float:\n",
        "        return round(tens, dec)\n",
        "    else:\n",
        "        return round(tens.item(), dec)\n",
        "\n",
        "def tens_count(tens, val):\n",
        "    \"\"\" counts nb of -val in tensor -tens \"\"\"\n",
        "    return len(tens) - round_loss(torch.count_nonzero(tens-val))\n",
        "\n",
        "def score(model, datafull):\n",
        "    \"\"\" returns accuracy provided models, images and GTs \"\"\"\n",
        "    with torch.no_grad():\n",
        "        out = model(datafull[0])\n",
        "        predictions = torch.max(out, 1)[1]\n",
        "        c=0\n",
        "        for a, b in zip(predictions, datafull[1]):\n",
        "            c += int(a==b)\n",
        "        return c/len(datafull[0])\n"
      ]
    },
    {
      "cell_type": "markdown",
      "metadata": {
        "id": "cC1BWA7Kk99I"
      },
      "source": [
        "## Flower"
      ]
    },
    {
      "cell_type": "markdown",
      "metadata": {
        "id": "jMjTiLjZ_nUO"
      },
      "source": [
        "### flower class"
      ]
    },
    {
      "cell_type": "code",
      "execution_count": null,
      "metadata": {
        "id": "CccpUZLozYXm"
      },
      "outputs": [],
      "source": [
        "# nodes repartition\n",
        "\n",
        "class Flower():\n",
        "    \"\"\" Training structure including local models and general one \n",
        "        Allowing to add and remove nodes at will\n",
        "        .pop\n",
        "        .add_nodes\n",
        "        .rem_nodes\n",
        "        .train\n",
        "        .display\n",
        "        .check\n",
        "    \"\"\"\n",
        "\n",
        "    def __init__(self, test, gpu=True, **kwargs):\n",
        "        \"\"\" opt : optimizer\n",
        "            test : test data couple (imgs,labels)\n",
        "        \"\"\"\n",
        "        self.d_test = test\n",
        "        self.gpu = gpu\n",
        "\n",
        "        self.opt = kwargs[\"opt\"]\n",
        "        self.lr_node = kwargs[\"lr_node\"]\n",
        "        self.lr_gen = kwargs[\"lr_gen\"]\n",
        "\n",
        "        self.get_classifier = MODELS[kwargs[\"NN\"]]\n",
        "        self.general_model = self.get_classifier(gpu)\n",
        "        self.init_model = deepcopy(self.general_model)\n",
        "        self.last_grad = None\n",
        "        self.opt_gen = self.opt(self.general_model.parameters(), lr=self.lr_gen)\n",
        "        self.pow_gen = kwargs[\"pow_gen\"]  # choice of norms for Licchavi loss\n",
        "        self.data = []\n",
        "        self.labels = [] \n",
        "        self.typ = []\n",
        "        self.models = []\n",
        "        self.weights = []\n",
        "        self.age = []\n",
        "        self.opt_nodes = []\n",
        "        self.nb_nodes = 0\n",
        "        self.dic = {\"honest\" : -1, \"trolls\" : 0, \"zeros\" : 1, \n",
        "                    \"one_evil\" : 2, \"strats\" : 3, \"jokers\" : 4, \"byzantine\" : -1,\n",
        "                    'freezed' : -1}\n",
        "        self.history = ([], [], [], [], [], [], [], [], []) \n",
        "        # (\"fit\", \"gen\", \"acc_big\", \"acc_small\", \"l2_dist\", \"l2_norm\", \"grad_sp\", \"grad_norm\", \"acc_glob\")\n",
        "\n",
        "    # ------------ population methods --------------------\n",
        "\n",
        "    def add_nodes(self, datafull, pop, typ, fav_lab=(0,0), verb=1, **kwargs):\n",
        "        \"\"\" add nodes to the Flower \n",
        "            datafull : data to put on node (sampled from it)\n",
        "            pop : (nb of nodes, size of nodes)\n",
        "            typ : type of nodes (str keywords)\n",
        "            fav_lab : (favorite label, strength)\n",
        "            w : int, weight of new nodes\n",
        "        \"\"\"\n",
        "        w = kwargs[\"w\"] # taking global variable if -w not provided\n",
        "        nb, size = pop\n",
        "        id = self.dic[typ]\n",
        "        dish = (id != -1) # boolean for dishonesty\n",
        "        dt, lb = distribute_data_rd(datafull, [size] * nb, fav_lab,\n",
        "                                    dish, dish_lab=id, gpu=self.gpu)\n",
        "        self.data += dt\n",
        "        self.labels += lb\n",
        "        self.typ += [typ] * nb\n",
        "\n",
        "        self.models += [self.get_classifier(self.gpu) for i in range(nb)]\n",
        "        self.weights += [w] * nb\n",
        "        self.age += [0] * nb\n",
        "        self.nb_nodes += nb\n",
        "        self.opt_nodes += [self.opt(self.models[n].parameters(), lr=self.lr_node) \n",
        "            for n in range(self.nb_nodes - nb, self.nb_nodes) \n",
        "            ]\n",
        "        if verb:\n",
        "            print(\"Added {} {} nodes of {} data points\".format(nb, typ, size))\n",
        "            print(\"Total number of nodes : {}\".format(self.nb_nodes))\n",
        "\n",
        "    def rem_nodes(self, first, last, verb=1):\n",
        "        \"\"\" remove nodes of indexes -first (included) to -last (excluded) \"\"\"\n",
        "        nb = last - first\n",
        "        if last > self.nb_nodes:\n",
        "            print(\"-last is out of range, remove canceled\")\n",
        "        else:\n",
        "            del self.data[first : last]\n",
        "            del self.labels[first : last] \n",
        "            del self.typ[first : last]\n",
        "            del self.models[first : last]\n",
        "            del self.weights[first : last]\n",
        "            del self.age[first : last]\n",
        "            del self.opt_nodes[first : last]\n",
        "            self.nb_nodes -= nb\n",
        "            if verb: print(\"Removed {} nodes\".format(nb))\n",
        "        \n",
        "    def hm(self, ty):\n",
        "        \"\"\" count nb of nodes of this type \"\"\"\n",
        "        return self.typ.count(ty)\n",
        "    \n",
        "    def pop(self):\n",
        "        \"\"\" return dictionnary of population \"\"\"\n",
        "        c = {}\n",
        "        for ty in self.dic.keys():\n",
        "            c[ty] = self.hm(ty)\n",
        "        return c\n",
        "\n",
        "    # ------------- scoring methods -----------\n",
        "    def score_glob(self, datafull): \n",
        "        \"\"\" return accuracy provided images and GTs \"\"\"\n",
        "        return score(self.general_model, datafull)\n",
        "    \n",
        "    def score_loc(self, node):\n",
        "        \"\"\" score of node on global test data \"\"\"\n",
        "        return score(self.models[node], self.d_test)\n",
        "\n",
        "    def score_nodes(self, l_nodes):\n",
        "        \"\"\" mean local test scores of nodes \"\"\"\n",
        "        score_tot = 0\n",
        "        for node in l_nodes:\n",
        "            score_tot += score(self.models[node], self.d_test)\n",
        "        return score_tot / len(l_nodes)\n",
        "\n",
        "    def test_train(self, node):\n",
        "        \"\"\" score of node on its train data \"\"\"\n",
        "        return score(self.models[node], (self.data[node], self.labels[node]))\n",
        "\n",
        "    def display(self, node):\n",
        "        \"\"\" display accuracy for selected node\n",
        "            node = -1 for global model\n",
        "        \"\"\"\n",
        "        if node == -1: # global model\n",
        "            print(\"global model\")\n",
        "            print(\"accuracy on test data :\", \n",
        "                  self.score_glob(self.d_test))\n",
        "        else: # we asked for a node\n",
        "            loc_train = self.test_train(node)\n",
        "            full_test = self.score_loc(node)\n",
        "            print(\"node number :\", node, \", dataset size :\",\n",
        "                len(self.labels[node]), \", type :\", self.typ[node], \n",
        "                \", age :\", self.age[node])\n",
        "            print(\"accuracy on local train data :\", loc_train)\n",
        "            print(\"accuracy on global test data :\", full_test)\n",
        "            repart = {str(k) : tens_count(self.labels[node], k) \n",
        "                for k in range(10)}\n",
        "            print(\"labels repartition :\", repart)\n",
        "    \n",
        "    # ---------- methods for training ------------\n",
        "    def _lr_schedule(self, schedule):\n",
        "        \"\"\" changes learning rates during trainning \"\"\"\n",
        "        decay, lr_min = schedule\n",
        "        if self.lr_node >= lr_min / decay:\n",
        "            self.lr_node *= decay\n",
        "            self.lr_gen *= decay\n",
        "\n",
        "    def _set_lr(self, reduction):\n",
        "        \"\"\"set learning rates of optimizers according to Flower setting\"\"\"\n",
        "        for n in range(self.nb_nodes):\n",
        "            self.opt_nodes[n].param_groups[0]['lr'] = self.lr_node\n",
        "        self.opt_gen.param_groups[0]['lr'] = self.lr_gen\n",
        "\n",
        "    def _zero_opt(self):\n",
        "        \"\"\"reset gradients of all models\"\"\"\n",
        "        for n in range(self.nb_nodes):\n",
        "            self.opt_nodes[n].zero_grad()      \n",
        "        self.opt_gen.zero_grad()\n",
        "\n",
        "    def _update_hist(self, epoch, test_freq, fit, gen, verb=1):\n",
        "        \"\"\" update history \"\"\"\n",
        "        acc_small = self.score_loc(0)\n",
        "        acc_big = self.score_loc(self.nb_nodes - 1)\n",
        "        acc_glob = self.score_glob(self.d_test)\n",
        "        self.history[2].append(acc_big) \n",
        "        self.history[3].append(acc_small) \n",
        "        self.history[8].append(acc_glob) \n",
        "        self.history[0].append(round_loss(fit))\n",
        "        self.history[1].append(round_loss(gen))\n",
        "\n",
        "        dist = models_dist(self.init_model, self.general_model, pow=(2,0.5)) \n",
        "        norm = model_norm(self.general_model, pow=(2,0.5))\n",
        "        self.history[4].append(round_loss(dist, 1))\n",
        "        self.history[5].append(round_loss(norm, 1))\n",
        "        grad_gen = extract_grad(self.general_model)\n",
        "        if epoch > 1: # no last model for first epoch\n",
        "            scal_grad = sp(self.last_grad, grad_gen)\n",
        "            self.history[6].append(scal_grad)\n",
        "        else:\n",
        "            self.history[6].append(0) # default value for first epoch\n",
        "        self.last_grad = deepcopy(extract_grad(self.general_model)) \n",
        "        grad_norm = math.sqrt(sp(grad_gen, grad_gen))\n",
        "        self.history[7].append(grad_norm)\n",
        "\n",
        "    def _old(self, years):\n",
        "        \"\"\" increment age (after training) \"\"\"\n",
        "        for i in range(self.nb_nodes):\n",
        "            self.age[i] += years\n",
        "    \n",
        "    def _do_all_step(self):\n",
        "        for n in range(self.nb_nodes): \n",
        "            self.opt_nodes[n].step()\n",
        "        self.opt_gen.step() \n",
        "\n",
        "    def _print_losses(self, tot, fit, gen):\n",
        "        \"\"\"print losses\"\"\"\n",
        "        print(\"total loss : \", tot) \n",
        "        print(\"fitting : \", round_loss(fit),\n",
        "                ', generalisation : ', round_loss(gen))\n",
        "    # ====================  TRAINING ================== \n",
        "\n",
        "    def train(\n",
        "            self, nb_epochs=None, test_freq=1, verb=1, \n",
        "            reduction='sum', schedule=(1, 0)):   \n",
        "        \"\"\"training loop\"\"\"\n",
        "        # nb_epochs = EPOCHS if nb_epochs is None else nb_epochs\n",
        "        time_train = time()\n",
        "\n",
        "        # initialisation to avoid undefined variables at epoch 1\n",
        "        loss, fit_loss, gen_loss = 0, 0, 0\n",
        "        c_fit, c_gen = 0, 0\n",
        "\n",
        "        # training loop \n",
        "        for epoch in range(1, nb_epochs + 1):\n",
        "            if verb: print(\"\\nepoch {}/{}\".format(epoch, nb_epochs))\n",
        "            time_ep = time()\n",
        "            self._zero_opt() # resetting gradients\n",
        "\n",
        "            self._lr_schedule(schedule)\n",
        "            self._set_lr(reduction)\n",
        "            \n",
        "            # ------- loss computation --------------------------\n",
        "            fit_loss, gen_loss = 0, 0\n",
        "            \n",
        "            for n in range(self.nb_nodes):   # for each node\n",
        "                fit_loss += local_loss(\n",
        "                    self.models[n], self.data[n], self.labels[n], reduction\n",
        "                )\n",
        "\n",
        "                gen = models_dist(\n",
        "                    self.models[n], self.general_model, self.pow_gen\n",
        "                )\n",
        "\n",
        "                gen_loss += self.weights[n] * gen  # generalisation term\n",
        "            if reduction == 'sum':  # harmonisation to better compare\n",
        "                fit_loss /= (sum(len(data) for data in self.data) / self.nb_nodes) # mean of data points per node\n",
        "            loss = fit_loss + gen_loss\n",
        "\n",
        "            # -----------------------------------------------\n",
        "            total_out = round_loss(fit_loss + gen_loss)\n",
        "            if verb >= 2:\n",
        "                self._print_losses(total_out, fit_loss, gen_loss)\n",
        "            # Gradient descent \n",
        "            loss.backward()\n",
        "            self._do_all_step()\n",
        " \n",
        "            if verb: \n",
        "                print(\"epoch time :\", round(time() - time_ep, 2)) \n",
        "            self._update_hist(epoch, test_freq, fit_loss, gen_loss, verb)\n",
        "            self._old(1)  # aging all nodes\n",
        "             \n",
        "        # ----------------- end of training -------------------------------  \n",
        "        for i in range(nb_epochs % test_freq): # to maintain same history length\n",
        "            self.history[3].append(acc)\n",
        "        print(\"training time :\", round(time() - time_train, 2)) \n",
        "        return self.history\n",
        "\n",
        "    # ------------ to check for problems --------------------------\n",
        "    def check(self):\n",
        "        \"\"\" perform some tests on internal parameters adequation \"\"\"\n",
        "        # population check\n",
        "        b1 =  (self.nb_nodes == len(self.data) == len(self.labels) \n",
        "            == len(self.typ) == len(self.models) == len(self.opt_nodes) \n",
        "            == len(self.weights) == len(self.age))\n",
        "        # history check\n",
        "        b2 = True\n",
        "        for l in self.history:\n",
        "            b2 = b2 and (len(l) == len(self.history[0]) >= max(self.age))\n",
        "        if (b1 and b2):\n",
        "            print(\"No Problem\")\n",
        "        else:\n",
        "            print(\"Coherency problem in Flower object\")\n"
      ]
    },
    {
      "cell_type": "markdown",
      "metadata": {
        "id": "BMatkr4R_iWQ"
      },
      "source": [
        "### flower utility"
      ]
    },
    {
      "cell_type": "code",
      "execution_count": null,
      "metadata": {
        "id": "Mqix5WLBWpCp"
      },
      "outputs": [],
      "source": [
        "def get_flower(gpu=True, **kwargs):\n",
        "    \"\"\"get a Flower using the appropriate test data (gpu or not)\"\"\"\n",
        "    if gpu:\n",
        "        return Flower(test_gpu, gpu=gpu, **kwargs)\n",
        "    return Flower(test, gpu=gpu, **kwargs)\n",
        "\n",
        "def extract_grad(model):\n",
        "    \"\"\"return list of gradients of a model\"\"\"\n",
        "    l_grad =  [p.grad for p in model.parameters()]\n",
        "    return l_grad\n",
        "\n",
        "def sp(l_grad1, l_grad2):\n",
        "    \"\"\"scalar product of 2 lists of gradients\"\"\"\n",
        "    s = 0\n",
        "    for g1, g2 in zip(l_grad1, l_grad2):\n",
        "        s += (g1 * g2).sum()\n",
        "    return round_loss(s, 4)\n"
      ]
    },
    {
      "cell_type": "markdown",
      "metadata": {
        "id": "JNiOich9viuc"
      },
      "source": [
        "# PLOTTING FUNCTIONS"
      ]
    },
    {
      "cell_type": "markdown",
      "metadata": {
        "id": "0SV9TcHxDotZ"
      },
      "source": [
        "## Plotting utilities"
      ]
    },
    {
      "cell_type": "code",
      "execution_count": null,
      "metadata": {
        "id": "0HdbfF8jDm8R"
      },
      "outputs": [],
      "source": [
        "INTENS = 0.4  # intensity of sublines\n",
        "\n",
        "def seedall(s):\n",
        "    \"\"\"seed all sources of randomness\"\"\"\n",
        "    reproducible = (s >= 0)\n",
        "    torch.manual_seed(s)\n",
        "    random.seed(s)\n",
        "    np.random.seed(s)\n",
        "    torch.backends.cudnn.deterministic = reproducible\n",
        "    torch.backends.cudnn.benchmark     = not reproducible\n",
        "    print(\"\\nSeeded all to\", s)\n",
        "\n",
        "def replace_dir(path):\n",
        "    \"\"\" create or replace directory \"\"\"\n",
        "    if os.path.exists(path):\n",
        "        shutil.rmtree(path)\n",
        "    os.makedirs(path)\n",
        "\n",
        "def get_style():\n",
        "    \"\"\"give different line styles for plots\"\"\"\n",
        "    l = [\"-\",\"-.\",\":\",\"--\"]\n",
        "    for i in range(10000):\n",
        "        yield l[i % 4]\n",
        "\n",
        "def get_color():\n",
        "    \"\"\"give different line styles for plots\"\"\"\n",
        "    l = [\"red\",\"green\",\"blue\",\"grey\"]\n",
        "    for i in range(10000):\n",
        "        yield l[i % 4]\n",
        "\n",
        "def set_styles():\n",
        "    \"\"\" sets the global generators variables \"\"\"\n",
        "    global STYLES\n",
        "    global COLORS\n",
        "    STYLES = get_style() \n",
        "    COLORS = get_color()\n",
        "\n",
        "def title_save(title=None, path=None, suff=\".pdf\"):\n",
        "    \"\"\" add title and save plot \"\"\"\n",
        "    if title is not None:   \n",
        "        plt.title(title)\n",
        "    if path is not None:\n",
        "        plt.savefig(path + suff, bbox_inches='tight')\n",
        "\n",
        "def legendize(y):\n",
        "    \"\"\" label axis of plt plot \"\"\"\n",
        "    plt.xlabel(\"Epochs\")\n",
        "    plt.ylabel(y)\n",
        "    plt.legend()\n"
      ]
    },
    {
      "cell_type": "markdown",
      "metadata": {
        "id": "-b245eNov4b1"
      },
      "source": [
        "## Plotting from history"
      ]
    },
    {
      "cell_type": "code",
      "execution_count": null,
      "metadata": {
        "id": "a_uPE0aIC0Ai"
      },
      "outputs": [],
      "source": [
        "# functions to display training history \n",
        "\n",
        "def means_bounds(arr):\n",
        "    \"\"\" from array return 1 array of means, \n",
        "        1 of (mean - var), 1 of (mean + var)\n",
        "    \"\"\"\n",
        "    means = np.mean(arr, axis=0)\n",
        "    var = np.var(arr, axis = 0) \n",
        "    low, up = means - var, means + var\n",
        "    return means, low, up\n",
        "\n",
        "# ----------- to display multiple accuracy curves on same plot -----------\n",
        "def add_acc_var(arr, label):\n",
        "    \"\"\" from array add curve of accuracy \"\"\"\n",
        "    acc = arr[:,3,:]\n",
        "    means, low, up = means_bounds(acc)\n",
        "    epochs = range(1, len(means) + 1)\n",
        "    plt.plot(epochs, means, label=label, linestyle=next(STYLES))\n",
        "    plt.fill_between(epochs, up, low, alpha=0.4)\n",
        "\n",
        "# ------------- utility for what follows -------------------------\n",
        "def plot_var(l_hist, l_idx):\n",
        "    \"\"\" add curve of asked indexes of history to the plot \"\"\"\n",
        "    arr_hist = np.asarray(l_hist)\n",
        "    epochs = range(1, arr_hist.shape[2] + 1)\n",
        "    for idx in l_idx:\n",
        "        vals = arr_hist[:,idx,:]\n",
        "        vals_m, vals_l, vals_u = means_bounds(vals)\n",
        "        style, color = next(STYLES), next(COLORS)\n",
        "        plt.plot(epochs, vals_m, label=METRICS[idx][\"lab\"], linestyle=style, color=color)\n",
        "        plt.fill_between(epochs, vals_u, vals_l, alpha=INTENS, color=color)\n",
        "\n",
        "def plotfull_var(l_hist, l_idx, title=None, path=None, show=True):\n",
        "    \"\"\" plot metrics asked in -l_idx and save if -path provided \"\"\"\n",
        "    plot_var(l_hist, l_idx)\n",
        "    idx = l_idx[0]\n",
        "    legendize(METRICS[idx][\"ord\"])\n",
        "    title_save(title, path, suff=\"{}.pdf\".format(METRICS[idx][\"f_name\"]))\n",
        "    if show: \n",
        "        plt.show()\n",
        "\n",
        "# ------- groups of metrics on a same plot -----------\n",
        "def loss_var(l_hist, title=None, path=None):\n",
        "    \"\"\" plot losses with variance from a list of historys \"\"\"\n",
        "    plotfull_var(l_hist, [0,1], title, path)\n",
        "\n",
        "def acc_var(l_hist, title=None, path=None):\n",
        "    \"\"\" plot accuracy with variance from a list of historys \"\"\"\n",
        "    plt.ylim([0,1])\n",
        "    plt.grid(True, which='major', linewidth=1, axis='y', alpha=1)\n",
        "    plt.minorticks_on()\n",
        "    plt.grid(True, which='minor', linewidth=0.8, axis='y', alpha=0.8)\n",
        "    plotfull_var(l_hist, [2, 3, 8], title, path)\n",
        "\n",
        "def l2_var(l_hist, title=None, path=None):\n",
        "    \"\"\"plot l2 norm of gen model from a list of historys\"\"\"\n",
        "    plotfull_var(l_hist, [4,5], title, path)\n",
        "\n",
        "def gradsp_var(l_hist, title=None, path=None):\n",
        "    \"\"\" plot scalar product of gradients between 2 consecutive epochs\n",
        "        from a list of historys\n",
        "    \"\"\"\n",
        "    plotfull_var(l_hist, [6,7], title, path)\n",
        "\n",
        "# plotting all we have\n",
        "def plot_metrics(l_hist, title=None, path=None):\n",
        "    \"\"\"plot and save the different metrics from list of historys\"\"\"\n",
        "    set_styles()\n",
        "    acc_var(l_hist, title, path)  \n",
        "    # loss_var(l_hist, title, path)\n",
        "    # l2_var(l_hist, title, path)\n",
        "    # gradsp_var(l_hist, title, path)"
      ]
    },
    {
      "cell_type": "markdown",
      "metadata": {
        "id": "1VOWD2aPGT43"
      },
      "source": [
        "# TRAININGS"
      ]
    },
    {
      "cell_type": "code",
      "execution_count": null,
      "metadata": {
        "id": "uqi8ofcjnd4X"
      },
      "outputs": [],
      "source": [
        "def replace_models(flow, l_nodes, model):\n",
        "    \"\"\" replaces models of nodes of l_nodes by model in flow \"\"\"\n",
        "    with torch.no_grad():\n",
        "        for node in l_nodes:\n",
        "            for par1, par2 in zip(flow.models[node].parameters(), model.parameters()):\n",
        "                for i, par in enumerate(par2):\n",
        "                    par1[i] = par  # deepcopy ?"
      ]
    },
    {
      "cell_type": "code",
      "execution_count": null,
      "metadata": {
        "id": "x6sJsk7Gzv5e"
      },
      "outputs": [],
      "source": [
        "# choosing parameters\n",
        "\n",
        "NB_SMALL = 10  # number of \"idle\" users\n",
        "SMALL_SIZE = 10  # number of data points per idle user\n",
        "NB_BIG = 1  # number of \"active\" users\n",
        "BIG_SIZE = 60_000  # number of data points per active user\n",
        "W = 100  # the \"lambda\" parameter\n",
        "\n",
        "NB_EPS = 200  # number of training epochs\n",
        "LR = 0.04  # learning rate\n",
        "SCHEDULE = (0.99, 0.02)  # (lr decay, min learning rate)\n",
        "OPT = optim.Adam  # optimizer\n",
        "\n",
        "MODEL = '2layers'  # model used (\"linear\" or \"2layers\")\n",
        "\n",
        "# setting configuration\n",
        "config = deepcopy(DEFAULTS)\n",
        "config['opt'] = OPT\n",
        "config['pow_gen'] = (2, 1)  # regularisation norm \n",
        "config['w'] = W\n",
        "\n",
        "config['NN'] = MODEL\n",
        "config['lr_gen'] = LR\n",
        "config['lr_node'] = LR"
      ]
    },
    {
      "cell_type": "code",
      "execution_count": null,
      "metadata": {
        "colab": {
          "base_uri": "https://localhost:8080/"
        },
        "id": "6uON7T6gCI4l",
        "outputId": "0d0fc123-73b4-4474-eeff-fce15a4af52e"
      },
      "outputs": [
        {
          "name": "stdout",
          "output_type": "stream",
          "text": [
            "\n",
            "Seeded all to 999\n",
            "Added 10 honest nodes of 10 data points\n",
            "Total number of nodes : 10\n",
            "Added 1 honest nodes of 60000 data points\n",
            "Total number of nodes : 11\n",
            "training time : 150.11\n",
            "No Problem\n"
          ]
        }
      ],
      "source": [
        "# AVERAGE\n",
        "\n",
        "seedall(999)\n",
        "flow_average = get_flower(**config)\n",
        "flow_average.add_nodes(train, pop=(NB_SMALL, SMALL_SIZE), typ='honest', **config)\n",
        "flow_average.add_nodes(train, pop=(NB_BIG, BIG_SIZE), typ='honest', **config)\n",
        "\n",
        "hist_average = flow_average.train(NB_EPS, verb=0, reduction='mean', schedule=SCHEDULE)\n",
        "flow_average.check()"
      ]
    },
    {
      "cell_type": "code",
      "execution_count": null,
      "metadata": {
        "colab": {
          "base_uri": "https://localhost:8080/"
        },
        "id": "vta8U6beYrVs",
        "outputId": "6de9ec2e-342f-44ba-a081-c0bc2dbe9c7a"
      },
      "outputs": [
        {
          "name": "stdout",
          "output_type": "stream",
          "text": [
            "\n",
            "Seeded all to 999\n",
            "Added 10 honest nodes of 10 data points\n",
            "Total number of nodes : 10\n",
            "Added 1 honest nodes of 60000 data points\n",
            "Total number of nodes : 11\n",
            "training time : 150.02\n",
            "No Problem\n"
          ]
        }
      ],
      "source": [
        "# SUM\n",
        "\n",
        "seedall(999)\n",
        "flow_sum = get_flower(**config)\n",
        "flow_sum.add_nodes(train, pop=(NB_SMALL, SMALL_SIZE), typ='honest', **config)\n",
        "flow_sum.add_nodes(train, pop=(NB_BIG, BIG_SIZE), typ='honest', **config)\n",
        "\n",
        "hist_sum = flow_sum.train(NB_EPS, verb=0, reduction='sum', schedule=SCHEDULE)\n",
        "flow_sum.check()"
      ]
    },
    {
      "cell_type": "markdown",
      "metadata": {
        "id": "nEtOUhaAuO-z"
      },
      "source": [
        "# RESULTS"
      ]
    },
    {
      "cell_type": "code",
      "execution_count": null,
      "metadata": {
        "colab": {
          "base_uri": "https://localhost:8080/"
        },
        "id": "wpLb30H_Foua",
        "outputId": "b6f672d0-1c8a-48f1-fad0-ded5371ce01b"
      },
      "outputs": [
        {
          "name": "stdout",
          "output_type": "stream",
          "text": [
            "AVERAGE\n",
            "global model\n",
            "accuracy on test data : 0.2629\n",
            "SUM\n",
            "global model\n",
            "accuracy on test data : 0.5811\n",
            "\n",
            "Local accuracys\n",
            "AVERAGE SUM\n",
            "small nodes\n",
            "0.2631 0.5805\n",
            "0.2573 0.5806\n",
            "0.2677 0.5807\n",
            "0.2625 0.5806\n",
            "0.2622 0.5807\n",
            "0.2582 0.5807\n",
            "0.2639 0.5806\n",
            "0.2625 0.5806\n",
            "0.2681 0.5807\n",
            "0.2681 0.5805\n",
            "big node\n",
            "0.2642 0.5876\n",
            "\n",
            "Average accuracys\n",
            "average small : 0.26336 sum small : 0.5806200000000001\n",
            "average big : 0.2642 sum big : 0.5876\n"
          ]
        }
      ],
      "source": [
        "# accuracy of global models\n",
        "print('AVERAGE')\n",
        "flow_average.display(-1)\n",
        "print('SUM')\n",
        "flow_sum.display(-1)\n",
        "\n",
        "# mean local accuracy of honest nodes\n",
        "average_small, average_big, sum_small, sum_big = 0, 0, 0, 0\n",
        "\n",
        "print('\\nLocal accuracys')\n",
        "print('AVERAGE', 'SUM')\n",
        "print('small nodes')\n",
        "for node in range(NB_SMALL):\n",
        "    average_s, sum_s = flow_average.score_nodes([node]), flow_sum.score_nodes([node])\n",
        "    print(average_s, sum_s)\n",
        "    average_small += average_s\n",
        "    sum_small += sum_s\n",
        "\n",
        "print('big node')\n",
        "for node in range(NB_SMALL, NB_SMALL + NB_BIG):\n",
        "    average_b, sum_b = flow_average.score_nodes([node]), flow_sum.score_nodes([node])\n",
        "    print(average_b, sum_b)\n",
        "    average_big += average_b\n",
        "    sum_big += sum_b\n",
        "\n",
        "print('\\nAverage accuracys')\n",
        "print(f'average small : {average_small / NB_SMALL}', f'sum small : {sum_small / NB_SMALL}')\n",
        "print(f'average big : {average_big / NB_BIG}', f'sum big : {sum_big / NB_BIG}')"
      ]
    },
    {
      "cell_type": "code",
      "execution_count": null,
      "metadata": {
        "colab": {
          "base_uri": "https://localhost:8080/"
        },
        "id": "IXDn8ig7oUxB",
        "outputId": "b0c55697-cc1d-45f4-dc0d-dd335a01fc2d"
      },
      "outputs": [
        {
          "data": {
            "image/png": "[encoded data removed]",
            "text/plain": [
              "<Figure size 432x288 with 1 Axes>"
            ]
          },
          "metadata": {
            "needs_background": "light"
          },
          "output_type": "display_data"
        }
      ],
      "source": [
        "plot_metrics([hist_average], title='', path= str(W).replace('.', '') + 'average_')  # FIXME add title"
      ]
    },
    {
      "cell_type": "code",
      "execution_count": null,
      "metadata": {
        "colab": {
          "base_uri": "https://localhost:8080/"
        },
        "id": "mLWb56R_leUF",
        "outputId": "60ccd566-14dc-479a-9c6c-90fe96c49bd3"
      },
      "outputs": [
        {
          "data": {
            "image/png": "[encoded data removed]",
            "text/plain": [
              "<Figure size 432x288 with 1 Axes>"
            ]
          },
          "metadata": {
            "needs_background": "light"
          },
          "output_type": "display_data"
        }
      ],
      "source": [
        "plot_metrics([hist_sum], title='', path= str(W).replace('.', '') + 'sum_') # FIXME add title"
      ]
    }
  ],
  "metadata": {
    "accelerator": "GPU",
    "colab": {
      "collapsed_sections": [],
      "machine_shape": "hm",
      "name": "Propre distribution sum_vs_avg.ipynb",
      "provenance": [],
      "toc_visible": true
    },
    "kernelspec": {
      "display_name": "Python 3",
      "language": "python",
      "name": "python3"
    },
    "language_info": {
      "codemirror_mode": {
        "name": "ipython",
        "version": 3
      },
      "file_extension": ".py",
      "mimetype": "text/x-python",
      "name": "python",
      "nbconvert_exporter": "python",
      "pygments_lexer": "ipython3",
      "version": "3.6.9"
    }
  },
  "nbformat": 4,
  "nbformat_minor": 0
}
